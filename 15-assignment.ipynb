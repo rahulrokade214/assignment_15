{
 "cells": [
  {
   "cell_type": "markdown",
   "id": "b06403ad-fa0c-4610-96b6-7590f9c7c304",
   "metadata": {},
   "source": [
    "# Q1. Explain GET and POST methods.\n"
   ]
  },
  {
   "cell_type": "markdown",
   "id": "1e59c2d6-03ec-4c2a-9517-e8fe00cf02b5",
   "metadata": {},
   "source": [
    "### GET requests are intended to retrieve data from a server and do not modify the server's state. On the other hand, POST requests are used to send data to the server for processing and may modify the server's state."
   ]
  },
  {
   "cell_type": "markdown",
   "id": "e4266b30-34f8-4941-937d-d2a67cb3d81b",
   "metadata": {},
   "source": [
    "## Q2. Why is request used in Flask?\n",
    "\n"
   ]
  },
  {
   "cell_type": "markdown",
   "id": "641b8a36-18fa-45f6-abb4-dd3f2125250e",
   "metadata": {},
   "source": [
    "### In a Flask App, we have our own Webpage (Client) and a Server. The Server should process the data. The Request, in Flask, is an object that contains all the data sent from the Client to Server. This data can be recovered using the GET/POST Methods.\n"
   ]
  },
  {
   "cell_type": "markdown",
   "id": "d01f77e7-ebd3-4cfb-a1fb-dc58ad592507",
   "metadata": {},
   "source": [
    "## Q3. Why is redirect() used in Flask?\n"
   ]
  },
  {
   "cell_type": "markdown",
   "id": "cc02682b-74bd-4ade-8c1e-2df5ac60ef20",
   "metadata": {},
   "source": [
    "### A redirect is used in the Flask class to send the user to a particular URL with the status code. conversely, this status code additionally identifies the issue."
   ]
  },
  {
   "cell_type": "markdown",
   "id": "7481757d-9a71-43fa-9c91-94442a95d530",
   "metadata": {},
   "source": [
    "## Q4. What are templates in Flask? Why is the render_template() function used?\n"
   ]
  },
  {
   "cell_type": "markdown",
   "id": "1d860670-08e2-4e6b-b0e8-2290e96ad5d6",
   "metadata": {},
   "source": [
    "### render_template is a Flask function from the flask. templating package. render_template is used to generate output from a template file based on the Jinja2 engine that is found in the application's templates folder. Note that render_template is typically imported directly from the flask package instead of from flask."
   ]
  },
  {
   "cell_type": "markdown",
   "id": "7a62eb27-cc04-425c-a68a-7840b13fb2d8",
   "metadata": {},
   "source": [
    "## Q5. Create a simple API. Use Postman to test it. Attach the screenshot of the output in the Jupyter Notebook."
   ]
  },
  {
   "cell_type": "markdown",
   "id": "d1580c7e-7bcb-4b10-8c5c-2234715ca5d3",
   "metadata": {},
   "source": [
    "### This Step By Step Tutorial Explains API Testing Using POSTMAN Including Basics of POSTMAN, Its Components and Sample Request and Response:\n",
    "\n",
    "### We had a look at the most commonly asked ASP.Net and Web API Interview Questions in our previous tutorial. By going through this tutorial, you will learn how we approach API Testing through POSTMAN for any given URL.\n",
    "\n",
    "### Postman is a very simple and intuitive API testing tool or application. Every component in POSTMAN is very important as it has its own significance."
   ]
  }
 ],
 "metadata": {
  "kernelspec": {
   "display_name": "Python 3 (ipykernel)",
   "language": "python",
   "name": "python3"
  },
  "language_info": {
   "codemirror_mode": {
    "name": "ipython",
    "version": 3
   },
   "file_extension": ".py",
   "mimetype": "text/x-python",
   "name": "python",
   "nbconvert_exporter": "python",
   "pygments_lexer": "ipython3",
   "version": "3.10.8"
  }
 },
 "nbformat": 4,
 "nbformat_minor": 5
}
